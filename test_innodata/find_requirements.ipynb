{
 "cells": [
  {
   "cell_type": "code",
   "execution_count": 1,
   "metadata": {},
   "outputs": [
    {
     "name": "stdout",
     "output_type": "stream",
     "text": [
      "[nltk_data] Downloading package stopwords to /home/bun/nltk_data...\n",
      "[nltk_data]   Package stopwords is already up-to-date!\n"
     ]
    }
   ],
   "source": [
    "import pandas as pd\n",
    "import re\n",
    "import collections\n",
    "import pymorphy2\n",
    "import nltk\n",
    "nltk.download(\"stopwords\")\n",
    "\n",
    "from sklearn.feature_extraction.text import CountVectorizer\n",
    "\n",
    "morph = pymorphy2.MorphAnalyzer()\n",
    "stopwords = nltk.corpus.stopwords.words(\"russian\")"
   ]
  },
  {
   "cell_type": "code",
   "execution_count": 2,
   "metadata": {},
   "outputs": [],
   "source": [
    "data = pd.read_csv('Тестовое задание InnoData - Лист1.csv')"
   ]
  },
  {
   "cell_type": "code",
   "execution_count": 3,
   "metadata": {},
   "outputs": [],
   "source": [
    "data['Review Title'] = data['Review Title'].fillna(' ')\n",
    "data['text'] = data['Review Title']+' '+data['Review Text']"
   ]
  },
  {
   "cell_type": "code",
   "execution_count": 4,
   "metadata": {},
   "outputs": [],
   "source": [
    "def to_norm(text):\n",
    "    clean_text = re.sub('[,.!?a-z0-9-]', '', text.lower()).split()\n",
    "    for ind, word in enumerate(clean_text):\n",
    "        try:\n",
    "            if word in ['не', 'нет']: #and morph.parse(clean_text[ind+1])[0].tag.POS in {'VERB', 'NOUN'}:\n",
    "                clean_text[ind] = word+'_'+clean_text[ind+1]\n",
    "                del clean_text[ind+1]\n",
    "        except IndexError:\n",
    "            continue\n",
    "            \n",
    "    norm_text = [morph.parse(w)[0].normal_form for w in clean_text]\n",
    "    import_text = [w for w in norm_text if w not in stopwords]\n",
    "    if len(import_text)<0:\n",
    "        return 'отзыв_не_обработан'\n",
    "    else:\n",
    "        return ' '.join(import_text)"
   ]
  },
  {
   "cell_type": "code",
   "execution_count": 5,
   "metadata": {},
   "outputs": [
    {
     "name": "stderr",
     "output_type": "stream",
     "text": [
      "/home/bun/anaconda3/lib/python3.7/site-packages/ipykernel_launcher.py:2: SettingWithCopyWarning: \n",
      "A value is trying to be set on a copy of a slice from a DataFrame.\n",
      "Try using .loc[row_indexer,col_indexer] = value instead\n",
      "\n",
      "See the caveats in the documentation: http://pandas.pydata.org/pandas-docs/stable/indexing.html#indexing-view-versus-copy\n",
      "  \n"
     ]
    }
   ],
   "source": [
    "all_reviews = data.dropna(axis=0, how='any')\n",
    "all_reviews['norm_text'] = all_reviews['text'].apply(to_norm)\n",
    "\n",
    "all_reviews = all_reviews.reset_index(drop=True)"
   ]
  },
  {
   "cell_type": "code",
   "execution_count": 6,
   "metadata": {},
   "outputs": [],
   "source": [
    "cv = CountVectorizer(ngram_range=(2, 2),max_df=0.95, min_df=0.01, max_features=5000, stop_words = ['отзыв_не_обработан'])\n",
    "freq = cv.fit_transform(all_reviews['norm_text']).toarray()\n",
    "voc = cv.get_feature_names()\n",
    "review_token = pd.concat([all_reviews[['type', 'Star Rating', 'text']], pd.DataFrame(freq, columns=voc)], axis=1)"
   ]
  },
  {
   "cell_type": "code",
   "execution_count": 11,
   "metadata": {},
   "outputs": [],
   "source": [
    "star_tokens = dict()\n",
    "\n",
    "for name, group in review_token.groupby('Star Rating'):\n",
    "    tokens = group.iloc[:,3:].sum().sort_values(ascending=False)[:20]#.reset_index().iloc[:10,0].values\n",
    "    star_tokens[name] = tokens "
   ]
  },
  {
   "cell_type": "markdown",
   "metadata": {},
   "source": [
    "### Лексические характеристики для каждой группы отзывов, по количеству звезд"
   ]
  },
  {
   "cell_type": "code",
   "execution_count": 13,
   "metadata": {},
   "outputs": [
    {
     "name": "stdout",
     "output_type": "stream",
     "text": [
      "Словосочетания чаще всего встречающиеся в отзывах с 1 звездами\n",
      "личный кабинет            357\n",
      "купить билет              120\n",
      "логин пароль              115\n",
      "последний обновление       90\n",
      "вход личный                74\n",
      "перестать работать         74\n",
      "войти личный               67\n",
      "приложение не_работать     61\n",
      "не_мочь войти              60\n",
      "это приложение             59\n",
      "постоянно вылетать         50\n",
      "не_мочь зайти              45\n",
      "приложение постоянно       45\n",
      "дата рождение              44\n",
      "обновление приложение      42\n",
      "зайти личный               40\n",
      "покупка билет              38\n",
      "приложение вылетать        36\n",
      "весь равно                 36\n",
      "регистрация рейс           36\n",
      "dtype: int64\n",
      "---------------------------------------------------------------\n",
      "Словосочетания чаще всего встречающиеся в отзывах с 2 звездами\n",
      "личный кабинет             127\n",
      "купить билет                59\n",
      "логин пароль                53\n",
      "последний обновление        37\n",
      "покупка билет               35\n",
      "вход личный                 29\n",
      "обновление приложение       26\n",
      "приложение вылетать         24\n",
      "регистрация рейс            23\n",
      "перестать работать          22\n",
      "войти личный                21\n",
      "отпечаток палец             21\n",
      "это приложение              21\n",
      "зарегистрироваться рейс     20\n",
      "выдавать ошибка             18\n",
      "вход отпечаток              18\n",
      "приложение постоянно        18\n",
      "дата рождение               18\n",
      "постоянно вылетать          17\n",
      "весь равно                  17\n",
      "dtype: int64\n",
      "---------------------------------------------------------------\n",
      "Словосочетания чаще всего встречающиеся в отзывах с 3 звездами\n",
      "личный кабинет             101\n",
      "логин пароль                29\n",
      "купить билет                29\n",
      "последний обновление        25\n",
      "регистрация рейс            22\n",
      "отпечаток палец             21\n",
      "вход личный                 21\n",
      "дата рождение               18\n",
      "выдавать ошибка             16\n",
      "покупка билет               15\n",
      "обновление приложение       14\n",
      "вход отпечаток              14\n",
      "приложение вылетать         14\n",
      "войти личный                13\n",
      "выбор место                 13\n",
      "зарегистрироваться рейс     11\n",
      "весь равно                  11\n",
      "перестать работать          10\n",
      "выбрать место                9\n",
      "постоянно вылетать           9\n",
      "dtype: int64\n",
      "---------------------------------------------------------------\n",
      "Словосочетания чаще всего встречающиеся в отзывах с 4 звездами\n",
      "личный кабинет           35\n",
      "регистрация рейс         17\n",
      "хороший приложение       17\n",
      "удобный приложение       13\n",
      "логин пароль             11\n",
      "весь работать            10\n",
      "выбор место              10\n",
      "выбрать место            10\n",
      "купить билет             10\n",
      "покупка билет            10\n",
      "отпечаток палец           7\n",
      "приложение работать       7\n",
      "вход личный               7\n",
      "вход отпечаток            7\n",
      "дата рождение             7\n",
      "обновление приложение     6\n",
      "отличный приложение       5\n",
      "очень удобный             5\n",
      "очень удобно              4\n",
      "весь равно                4\n",
      "dtype: int64\n",
      "---------------------------------------------------------------\n",
      "Словосочетания чаще всего встречающиеся в отзывах с 5 звездами\n",
      "отличный приложение      102\n",
      "удобный приложение        97\n",
      "очень удобно              71\n",
      "очень удобный             57\n",
      "хороший приложение        55\n",
      "приложение весь           44\n",
      "весь работать             41\n",
      "личный кабинет            24\n",
      "покупка билет             23\n",
      "купить билет              16\n",
      "регистрация рейс          13\n",
      "выбор место               10\n",
      "это приложение            10\n",
      "последний обновление      10\n",
      "приложение работать       10\n",
      "логин пароль               7\n",
      "обновление приложение      6\n",
      "зайти личный               6\n",
      "весь равно                 5\n",
      "выбрать место              5\n",
      "dtype: int64\n",
      "---------------------------------------------------------------\n"
     ]
    }
   ],
   "source": [
    "for i in star_tokens:\n",
    "    print('Словосочетания чаще всего встречающиеся в отзывах с {} звездами'.format(i))\n",
    "    print(star_tokens[i])\n",
    "    print('---------------------------------------------------------------')"
   ]
  },
  {
   "cell_type": "markdown",
   "metadata": {},
   "source": [
    "В результате последнего обновления многие пользователи жалуются на нестабильную работу приложения, \n",
    "проблемы с входом в личный кабинет, а так же на доступ к приложению по отпечатку пальца.\n",
    "А точнее, \n",
    " - после обновления сбрасываются личные данные пользователи, и их нужно вводить заново\n",
    " - вход по отпечатку не работает или постоянно предлагает перейти на вход только  по отпечатку, \n",
    "   указав больше не спрашивать, но на следующий раз все повторяется снова\n",
    "\n",
    "Интересно, что даже в отзывах с высокой оценкой пользователи упоминают проблемы с доступом к приложению. \n",
    "Чаще всего здесь имеется в виду, невозможность зайти в личный кабинет, \n",
    "так же упоминается недоступность некоторых функций приложения, покупка билетов и прочее."
   ]
  },
  {
   "cell_type": "code",
   "execution_count": null,
   "metadata": {},
   "outputs": [],
   "source": []
  },
  {
   "cell_type": "code",
   "execution_count": null,
   "metadata": {},
   "outputs": [],
   "source": []
  },
  {
   "cell_type": "code",
   "execution_count": null,
   "metadata": {},
   "outputs": [],
   "source": []
  },
  {
   "cell_type": "code",
   "execution_count": null,
   "metadata": {},
   "outputs": [],
   "source": []
  },
  {
   "cell_type": "code",
   "execution_count": null,
   "metadata": {},
   "outputs": [],
   "source": []
  },
  {
   "cell_type": "code",
   "execution_count": null,
   "metadata": {},
   "outputs": [],
   "source": []
  },
  {
   "cell_type": "code",
   "execution_count": null,
   "metadata": {},
   "outputs": [],
   "source": []
  },
  {
   "cell_type": "code",
   "execution_count": 221,
   "metadata": {
    "scrolled": true
   },
   "outputs": [
    {
     "data": {
      "text/plain": [
       "type\n",
       "1    3982\n",
       "2    2000\n",
       "Name: text, dtype: int64"
      ]
     },
     "execution_count": 221,
     "metadata": {},
     "output_type": "execute_result"
    }
   ],
   "source": [
    "review_token.groupby('type')['text'].count()"
   ]
  },
  {
   "cell_type": "code",
   "execution_count": 190,
   "metadata": {},
   "outputs": [],
   "source": [
    "def find_ngrams(input_list, n):\n",
    "    return [' '.join(words) for words in zip(*[input_list[i:] for i in range(n)])]\n",
    "\n",
    "def add_to_dict(diction, key, value):\n",
    "    if key in diction.keys():\n",
    "        diction[key].extend(value)\n",
    "    else:\n",
    "        diction[key] = value"
   ]
  },
  {
   "cell_type": "code",
   "execution_count": 196,
   "metadata": {},
   "outputs": [],
   "source": [
    "find_around = dict()\n",
    "\n",
    "for ind, row in all_reviews.iterrows():\n",
    "    text = row['norm_text'].split()\n",
    "    text.extend(find_ngrams(text, 2))\n",
    "    for i, w in enumerate(text):\n",
    "        if w in star_tokens[1]:\n",
    "            try:\n",
    "                around = text[i-2:i+2]\n",
    "                del around[2]\n",
    "            except IndexError:\n",
    "                pass\n",
    "            add_to_dict(find_around, w, around)"
   ]
  },
  {
   "cell_type": "code",
   "execution_count": null,
   "metadata": {},
   "outputs": [],
   "source": []
  }
 ],
 "metadata": {
  "kernelspec": {
   "display_name": "Python 3",
   "language": "python",
   "name": "python3"
  },
  "language_info": {
   "codemirror_mode": {
    "name": "ipython",
    "version": 3
   },
   "file_extension": ".py",
   "mimetype": "text/x-python",
   "name": "python",
   "nbconvert_exporter": "python",
   "pygments_lexer": "ipython3",
   "version": "3.7.0"
  }
 },
 "nbformat": 4,
 "nbformat_minor": 2
}
