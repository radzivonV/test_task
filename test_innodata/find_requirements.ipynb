{
 "cells": [
  {
   "cell_type": "code",
   "execution_count": 201,
   "metadata": {},
   "outputs": [
    {
     "name": "stdout",
     "output_type": "stream",
     "text": [
      "[nltk_data] Downloading package stopwords to /home/bun/nltk_data...\n",
      "[nltk_data]   Package stopwords is already up-to-date!\n"
     ]
    }
   ],
   "source": [
    "import pandas as pd\n",
    "import re\n",
    "import collections\n",
    "import pymorphy2\n",
    "import nltk\n",
    "nltk.download(\"stopwords\")\n",
    "\n",
    "from sklearn.feature_extraction.text import CountVectorizer\n",
    "\n",
    "morph = pymorphy2.MorphAnalyzer()\n",
    "stopwords = nltk.corpus.stopwords.words(\"russian\")"
   ]
  },
  {
   "cell_type": "code",
   "execution_count": 3,
   "metadata": {},
   "outputs": [],
   "source": [
    "data = pd.read_csv('Тестовое задание InnoData - Лист1.csv')"
   ]
  },
  {
   "cell_type": "code",
   "execution_count": 10,
   "metadata": {},
   "outputs": [],
   "source": [
    "data['Review Title'] = data['Review Title'].fillna(' ')\n",
    "data['text'] = data['Review Title']+' '+data['Review Text']"
   ]
  },
  {
   "cell_type": "code",
   "execution_count": 141,
   "metadata": {},
   "outputs": [],
   "source": [
    "def to_norm(text):\n",
    "    clean_text = re.sub('[,.!?a-z0-9-]', '', text.lower()).split()\n",
    "    for ind, word in enumerate(clean_text):\n",
    "        try:\n",
    "            if word in ['не', 'нет']: #and morph.parse(clean_text[ind+1])[0].tag.POS in {'VERB', 'NOUN'}:\n",
    "                clean_text[ind] = word+'_'+clean_text[ind+1]\n",
    "                del clean_text[ind+1]\n",
    "        except IndexError:\n",
    "            continue\n",
    "            \n",
    "    norm_text = [morph.parse(w)[0].normal_form for w in clean_text]\n",
    "    import_text = [w for w in norm_text if w not in stopwords]\n",
    "    if len(import_text)<0:\n",
    "        return 'отзыв_не_обработан'\n",
    "    else:\n",
    "        return ' '.join(import_text)"
   ]
  },
  {
   "cell_type": "code",
   "execution_count": 142,
   "metadata": {
    "collapsed": true
   },
   "outputs": [
    {
     "name": "stderr",
     "output_type": "stream",
     "text": [
      "/home/bun/anaconda3/lib/python3.7/site-packages/ipykernel_launcher.py:2: SettingWithCopyWarning: \n",
      "A value is trying to be set on a copy of a slice from a DataFrame.\n",
      "Try using .loc[row_indexer,col_indexer] = value instead\n",
      "\n",
      "See the caveats in the documentation: http://pandas.pydata.org/pandas-docs/stable/indexing.html#indexing-view-versus-copy\n",
      "  \n"
     ]
    }
   ],
   "source": [
    "all_reviews = data.dropna(axis=0, how='any')\n",
    "all_reviews['norm_text'] = all_reviews['text'].apply(to_norm)\n",
    "\n",
    "all_reviews = all_reviews.reset_index(drop=True)"
   ]
  },
  {
   "cell_type": "code",
   "execution_count": 216,
   "metadata": {},
   "outputs": [],
   "source": [
    "cv = CountVectorizer(ngram_range=(2, 2),max_df=0.95, min_df=0.01, max_features=5000, stop_words = ['отзыв_не_обработан'])\n",
    "freq = cv.fit_transform(all_reviews['norm_text']).toarray()\n",
    "voc = cv.get_feature_names()\n",
    "review_token = pd.concat([all_reviews[['type', 'Star Rating', 'text']], pd.DataFrame(freq, columns=voc)], axis=1)"
   ]
  },
  {
   "cell_type": "code",
   "execution_count": 222,
   "metadata": {},
   "outputs": [],
   "source": [
    "star_tokens = dict()\n",
    "review_token1 = review_token[review_token['type']==1]\n",
    "\n",
    "for name, group in review_token1.groupby('Star Rating'):\n",
    "    tokens = group.iloc[:,3:].sum().sort_values(ascending=False)[:25]#.reset_index().iloc[:10,0].values\n",
    "    star_tokens[name] = tokens "
   ]
  },
  {
   "cell_type": "code",
   "execution_count": 223,
   "metadata": {},
   "outputs": [
    {
     "data": {
      "text/plain": [
       "{1: личный кабинет             122\n",
       " логин пароль                58\n",
       " купить билет                54\n",
       " перестать работать          48\n",
       " дата рождение               43\n",
       " это приложение              37\n",
       " приложение не_работать      34\n",
       " последний обновление        33\n",
       " не_мочь войти               31\n",
       " обновление приложение       29\n",
       " постоянно вылетать          27\n",
       " регистрация рейс            25\n",
       " весь равно                  24\n",
       " не_мочь зайти               24\n",
       " приложение постоянно        22\n",
       " войти личный                21\n",
       " вход отпечаток              21\n",
       " зайти личный                20\n",
       " отпечаток палец             19\n",
       " приложение работать         19\n",
       " приложение весь             18\n",
       " выдавать ошибка             16\n",
       " зарегистрироваться рейс     16\n",
       " покупка билет               16\n",
       " приложение вылетать         15\n",
       " dtype: int64, 2: личный кабинет             47\n",
       " купить билет               30\n",
       " логин пароль               28\n",
       " последний обновление       24\n",
       " это приложение             18\n",
       " дата рождение              17\n",
       " регистрация рейс           17\n",
       " отпечаток палец            16\n",
       " покупка билет              16\n",
       " обновление приложение      15\n",
       " выдавать ошибка            14\n",
       " вход отпечаток             14\n",
       " приложение вылетать        13\n",
       " зарегистрироваться рейс    13\n",
       " перестать работать         12\n",
       " приложение постоянно       12\n",
       " приложение не_работать     11\n",
       " не_мочь войти              10\n",
       " выбор место                10\n",
       " выбрать место              10\n",
       " постоянно вылетать          9\n",
       " весь равно                  9\n",
       " войти личный                9\n",
       " не_мочь зайти               8\n",
       " приложение весь             7\n",
       " dtype: int64, 3: личный кабинет             40\n",
       " регистрация рейс           18\n",
       " дата рождение              16\n",
       " купить билет               15\n",
       " отпечаток палец            12\n",
       " вход отпечаток             10\n",
       " выдавать ошибка            10\n",
       " логин пароль                9\n",
       " зарегистрироваться рейс     9\n",
       " обновление приложение       8\n",
       " последний обновление        7\n",
       " покупка билет               7\n",
       " выбор место                 6\n",
       " перестать работать          6\n",
       " весь равно                  5\n",
       " вход личный                 5\n",
       " выбрать место               5\n",
       " зайти личный                5\n",
       " это приложение              5\n",
       " постоянно вылетать          5\n",
       " приложение вылетать         4\n",
       " не_мочь войти               3\n",
       " не_мочь зайти               3\n",
       " хороший приложение          3\n",
       " войти личный                3\n",
       " dtype: int64, 4: регистрация рейс           15\n",
       " личный кабинет             14\n",
       " хороший приложение         10\n",
       " логин пароль                9\n",
       " весь работать               8\n",
       " выбор место                 8\n",
       " выбрать место               7\n",
       " дата рождение               7\n",
       " приложение работать         6\n",
       " купить билет                6\n",
       " вход отпечаток              5\n",
       " покупка билет               5\n",
       " отпечаток палец             4\n",
       " весь равно                  4\n",
       " не_мочь зайти               4\n",
       " это приложение              4\n",
       " удобный приложение          4\n",
       " отличный приложение         3\n",
       " зарегистрироваться рейс     3\n",
       " войти личный                3\n",
       " очень удобно                3\n",
       " обновление приложение       3\n",
       " последний обновление        2\n",
       " выдавать ошибка             2\n",
       " приложение вылетать         2\n",
       " dtype: int64, 5: удобный приложение         76\n",
       " отличный приложение        66\n",
       " очень удобно               53\n",
       " очень удобный              44\n",
       " хороший приложение         41\n",
       " весь работать              29\n",
       " приложение весь            29\n",
       " личный кабинет             14\n",
       " купить билет               12\n",
       " покупка билет              10\n",
       " регистрация рейс            8\n",
       " выбор место                 7\n",
       " логин пароль                6\n",
       " это приложение              5\n",
       " приложение работать         5\n",
       " зарегистрироваться рейс     4\n",
       " последний обновление        4\n",
       " весь равно                  4\n",
       " зайти личный                3\n",
       " выбрать место               3\n",
       " выдавать ошибка             3\n",
       " обновление приложение       3\n",
       " приложение постоянно        2\n",
       " отпечаток палец             2\n",
       " не_мочь войти               2\n",
       " dtype: int64}"
      ]
     },
     "execution_count": 223,
     "metadata": {},
     "output_type": "execute_result"
    }
   ],
   "source": [
    "star_tokens"
   ]
  },
  {
   "cell_type": "code",
   "execution_count": 221,
   "metadata": {},
   "outputs": [
    {
     "data": {
      "text/plain": [
       "type\n",
       "1    3982\n",
       "2    2000\n",
       "Name: text, dtype: int64"
      ]
     },
     "execution_count": 221,
     "metadata": {},
     "output_type": "execute_result"
    }
   ],
   "source": [
    "review_token.groupby('type')['text'].count()"
   ]
  },
  {
   "cell_type": "code",
   "execution_count": 190,
   "metadata": {},
   "outputs": [],
   "source": [
    "def find_ngrams(input_list, n):\n",
    "    return [' '.join(words) for words in zip(*[input_list[i:] for i in range(n)])]\n",
    "\n",
    "def add_to_dict(diction, key, value):\n",
    "    if key in diction.keys():\n",
    "        diction[key].extend(value)\n",
    "    else:\n",
    "        diction[key] = value"
   ]
  },
  {
   "cell_type": "code",
   "execution_count": 196,
   "metadata": {},
   "outputs": [],
   "source": [
    "find_around = dict()\n",
    "\n",
    "for ind, row in all_reviews.iterrows():\n",
    "    text = row['norm_text'].split()\n",
    "    text.extend(find_ngrams(text, 2))\n",
    "    for i, w in enumerate(text):\n",
    "        if w in star_tokens[1]:\n",
    "            try:\n",
    "                around = text[i-2:i+2]\n",
    "                del around[2]\n",
    "            except IndexError:\n",
    "                pass\n",
    "            add_to_dict(find_around, w, around)"
   ]
  },
  {
   "cell_type": "code",
   "execution_count": null,
   "metadata": {},
   "outputs": [],
   "source": []
  }
 ],
 "metadata": {
  "kernelspec": {
   "display_name": "Python 3",
   "language": "python",
   "name": "python3"
  },
  "language_info": {
   "codemirror_mode": {
    "name": "ipython",
    "version": 3
   },
   "file_extension": ".py",
   "mimetype": "text/x-python",
   "name": "python",
   "nbconvert_exporter": "python",
   "pygments_lexer": "ipython3",
   "version": "3.7.0"
  }
 },
 "nbformat": 4,
 "nbformat_minor": 2
}
