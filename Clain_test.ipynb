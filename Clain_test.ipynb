{
 "cells": [
  {
   "cell_type": "code",
   "execution_count": 55,
   "metadata": {},
   "outputs": [],
   "source": [
    "import pandas as pd\n",
    "import numpy as np"
   ]
  },
  {
   "cell_type": "code",
   "execution_count": 154,
   "metadata": {},
   "outputs": [],
   "source": [
    "address_clust = pd.read_csv('test_jun/address_clust.csv')\n",
    "address_stats = pd.read_csv('test_jun/address_stats.csv')"
   ]
  },
  {
   "cell_type": "code",
   "execution_count": 165,
   "metadata": {},
   "outputs": [],
   "source": [
    "address_stats['cluster'] = address_stats['address_id'].map(address_clust.set_index('address_id')['cluster_id'].to_dict()).fillna(0)"
   ]
  },
  {
   "cell_type": "code",
   "execution_count": 156,
   "metadata": {},
   "outputs": [],
   "source": [
    "# дубли\n",
    "dubid =address_stats.groupby('id')['transaction_id'].count().reset_index().sort_values('transaction_id').query('transaction_id==2')['id']"
   ]
  },
  {
   "cell_type": "code",
   "execution_count": 166,
   "metadata": {},
   "outputs": [
    {
     "data": {
      "text/plain": [
       "54445"
      ]
     },
     "execution_count": 166,
     "metadata": {},
     "output_type": "execute_result"
    }
   ],
   "source": [
    "address_stats = address_stats.drop_duplicates('id')\n",
    "len(address_stats)"
   ]
  },
  {
   "cell_type": "code",
   "execution_count": 169,
   "metadata": {},
   "outputs": [],
   "source": [
    "ac = address_stats.groupby('transaction_id')['cluster'].nunique().reset_index()\n",
    "transactfor2 = address_stats[address_stats['transaction_id'].isin(ac[ac['cluster']==2]['transaction_id'])]"
   ]
  },
  {
   "cell_type": "code",
   "execution_count": 172,
   "metadata": {},
   "outputs": [],
   "source": [
    "transact01 = []\n",
    "transact12 = []\n",
    "transact02 = []\n",
    "for transact, group in transactfor2.groupby('transaction_id'):\n",
    "    sent = group[group.sent!=0]['cluster'].unique()\n",
    "    received = group[group.received!=0]['cluster'].unique()\n",
    "    if len(sent)==1 and len(received)==1:\n",
    "        if sent in [0,1] and received in [0,1]: transact01.append(transact)\n",
    "        elif sent in [1,2] and received in [1,2]: transact12.append(transact)\n",
    "        elif sent in [0,2] and received in [0,2]: transact02.append(transact)"
   ]
  },
  {
   "cell_type": "code",
   "execution_count": 179,
   "metadata": {},
   "outputs": [],
   "source": [
    "address_stats['received'], address_stats['sent'] = address_stats['received']/10**8, address_stats['sent']/10**8"
   ]
  },
  {
   "cell_type": "code",
   "execution_count": 182,
   "metadata": {},
   "outputs": [
    {
     "data": {
      "text/html": [
       "<div>\n",
       "<style scoped>\n",
       "    .dataframe tbody tr th:only-of-type {\n",
       "        vertical-align: middle;\n",
       "    }\n",
       "\n",
       "    .dataframe tbody tr th {\n",
       "        vertical-align: top;\n",
       "    }\n",
       "\n",
       "    .dataframe thead th {\n",
       "        text-align: right;\n",
       "    }\n",
       "</style>\n",
       "<table border=\"1\" class=\"dataframe\">\n",
       "  <thead>\n",
       "    <tr style=\"text-align: right;\">\n",
       "      <th></th>\n",
       "      <th>sent</th>\n",
       "      <th>received</th>\n",
       "    </tr>\n",
       "    <tr>\n",
       "      <th>cluster</th>\n",
       "      <th></th>\n",
       "      <th></th>\n",
       "    </tr>\n",
       "  </thead>\n",
       "  <tbody>\n",
       "    <tr>\n",
       "      <th>1.0</th>\n",
       "      <td>6.906500</td>\n",
       "      <td>0.5600</td>\n",
       "    </tr>\n",
       "    <tr>\n",
       "      <th>2.0</th>\n",
       "      <td>0.565109</td>\n",
       "      <td>6.8991</td>\n",
       "    </tr>\n",
       "  </tbody>\n",
       "</table>\n",
       "</div>"
      ],
      "text/plain": [
       "             sent  received\n",
       "cluster                    \n",
       "1.0      6.906500    0.5600\n",
       "2.0      0.565109    6.8991"
      ]
     },
     "execution_count": 182,
     "metadata": {},
     "output_type": "execute_result"
    }
   ],
   "source": [
    "# Сколько биткоинов отправил кластер 1 в кластер 2 и сколько кластер 2 отправил в кластер 1?\n",
    "address_stats12 = address_stats[address_stats['transaction_id'].isin(transact12)]\n",
    "address_stats12.groupby('cluster')[['sent','received']].sum()"
   ]
  },
  {
   "cell_type": "code",
   "execution_count": 183,
   "metadata": {},
   "outputs": [
    {
     "data": {
      "text/html": [
       "<div>\n",
       "<style scoped>\n",
       "    .dataframe tbody tr th:only-of-type {\n",
       "        vertical-align: middle;\n",
       "    }\n",
       "\n",
       "    .dataframe tbody tr th {\n",
       "        vertical-align: top;\n",
       "    }\n",
       "\n",
       "    .dataframe thead th {\n",
       "        text-align: right;\n",
       "    }\n",
       "</style>\n",
       "<table border=\"1\" class=\"dataframe\">\n",
       "  <thead>\n",
       "    <tr style=\"text-align: right;\">\n",
       "      <th></th>\n",
       "      <th>sent</th>\n",
       "      <th>received</th>\n",
       "    </tr>\n",
       "    <tr>\n",
       "      <th>cluster</th>\n",
       "      <th></th>\n",
       "      <th></th>\n",
       "    </tr>\n",
       "  </thead>\n",
       "  <tbody>\n",
       "    <tr>\n",
       "      <th>0.0</th>\n",
       "      <td>19.809366</td>\n",
       "      <td>201.315744</td>\n",
       "    </tr>\n",
       "    <tr>\n",
       "      <th>1.0</th>\n",
       "      <td>201.394888</td>\n",
       "      <td>19.740262</td>\n",
       "    </tr>\n",
       "  </tbody>\n",
       "</table>\n",
       "</div>"
      ],
      "text/plain": [
       "               sent    received\n",
       "cluster                        \n",
       "0.0       19.809366  201.315744\n",
       "1.0      201.394888   19.740262"
      ]
     },
     "execution_count": 183,
     "metadata": {},
     "output_type": "execute_result"
    }
   ],
   "source": [
    "# Сколько биткоинов отправил кластер 1 в кластер 0 и сколько кластер 0 отправил в кластер 1?\n",
    "address_stats01 = address_stats[address_stats['transaction_id'].isin(transact01)]\n",
    "address_stats01.groupby('cluster')[['sent','received']].sum()"
   ]
  },
  {
   "cell_type": "code",
   "execution_count": 184,
   "metadata": {},
   "outputs": [
    {
     "data": {
      "text/html": [
       "<div>\n",
       "<style scoped>\n",
       "    .dataframe tbody tr th:only-of-type {\n",
       "        vertical-align: middle;\n",
       "    }\n",
       "\n",
       "    .dataframe tbody tr th {\n",
       "        vertical-align: top;\n",
       "    }\n",
       "\n",
       "    .dataframe thead th {\n",
       "        text-align: right;\n",
       "    }\n",
       "</style>\n",
       "<table border=\"1\" class=\"dataframe\">\n",
       "  <thead>\n",
       "    <tr style=\"text-align: right;\">\n",
       "      <th></th>\n",
       "      <th>sent</th>\n",
       "      <th>received</th>\n",
       "    </tr>\n",
       "    <tr>\n",
       "      <th>cluster</th>\n",
       "      <th></th>\n",
       "      <th></th>\n",
       "    </tr>\n",
       "  </thead>\n",
       "  <tbody>\n",
       "    <tr>\n",
       "      <th>0.0</th>\n",
       "      <td>0.36240</td>\n",
       "      <td>0.0003</td>\n",
       "    </tr>\n",
       "    <tr>\n",
       "      <th>2.0</th>\n",
       "      <td>0.00055</td>\n",
       "      <td>0.3604</td>\n",
       "    </tr>\n",
       "  </tbody>\n",
       "</table>\n",
       "</div>"
      ],
      "text/plain": [
       "            sent  received\n",
       "cluster                   \n",
       "0.0      0.36240    0.0003\n",
       "2.0      0.00055    0.3604"
      ]
     },
     "execution_count": 184,
     "metadata": {},
     "output_type": "execute_result"
    }
   ],
   "source": [
    "# Сколько биткоинов отправил кластер 2 в кластер 0 и сколько кластер 0 отправил в кластер 2?\n",
    "address_stats02 = address_stats[address_stats['transaction_id'].isin(transact02)]\n",
    "address_stats02.groupby('cluster')[['sent','received']].sum()"
   ]
  },
  {
   "cell_type": "code",
   "execution_count": 185,
   "metadata": {},
   "outputs": [
    {
     "name": "stdout",
     "output_type": "stream",
     "text": [
      "CPU times: user 44.9 s, sys: 101 ms, total: 45 s\n",
      "Wall time: 45.1 s\n"
     ]
    }
   ],
   "source": [
    "%%time\n",
    "\n",
    "fee1=[]\n",
    "fee2=[]\n",
    "for transact, group in address_stats.groupby('transaction_id'):\n",
    "    if len(group[group.sent >0]['cluster'].unique()) == 1 and group[group.sent >0]['cluster'].unique()==1:\n",
    "        fee1.append(transact)\n",
    "    elif len(group[group.sent>0]['cluster'].unique()) == 1 and group[group.sent >0]['cluster'].unique() == 2:\n",
    "        fee2.append(transact)"
   ]
  },
  {
   "cell_type": "code",
   "execution_count": 186,
   "metadata": {},
   "outputs": [
    {
     "data": {
      "text/plain": [
       "0.5023439999908987"
      ]
     },
     "execution_count": 186,
     "metadata": {},
     "output_type": "execute_result"
    }
   ],
   "source": [
    "#Сколько биткоинов потратил кластер 1 на fee?\n",
    "fee_stats1 = address_stats[address_stats['transaction_id'].isin(fee1)]\n",
    "\n",
    "fee_stats1[['sent','received']].sum()[0] - fee_stats1[['sent','received']].sum()[1]"
   ]
  },
  {
   "cell_type": "code",
   "execution_count": 187,
   "metadata": {},
   "outputs": [
    {
     "data": {
      "text/plain": [
       "0.3729586100103006"
      ]
     },
     "execution_count": 187,
     "metadata": {},
     "output_type": "execute_result"
    }
   ],
   "source": [
    "#Сколько биткоинов потратил кластер 2 на fee?\n",
    "fee_stats2 = address_stats[address_stats['transaction_id'].isin(fee2)]\n",
    "\n",
    "fee_stats2[['sent','received']].sum()[0] - fee_stats2[['sent','received']].sum()[1]"
   ]
  },
  {
   "cell_type": "code",
   "execution_count": null,
   "metadata": {},
   "outputs": [],
   "source": []
  }
 ],
 "metadata": {
  "kernelspec": {
   "display_name": "Python 3",
   "language": "python",
   "name": "python3"
  },
  "language_info": {
   "codemirror_mode": {
    "name": "ipython",
    "version": 3
   },
   "file_extension": ".py",
   "mimetype": "text/x-python",
   "name": "python",
   "nbconvert_exporter": "python",
   "pygments_lexer": "ipython3",
   "version": "3.7.0"
  }
 },
 "nbformat": 4,
 "nbformat_minor": 2
}
